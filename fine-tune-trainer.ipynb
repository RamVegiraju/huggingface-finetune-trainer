{
 "cells": [
  {
   "cell_type": "markdown",
   "id": "4a805dc3-1632-4b30-8065-52074ac728cf",
   "metadata": {},
   "source": [
    "# Fine-Tuning Transformers Models with HuggingFace Trainer\n",
    "In this example we'll fine-tune [BERT](https://huggingface.co/google-bert/bert-base-cased), with the [IMBD dataset](https://huggingface.co/datasets/imdb) for a Text Classification use-case using the [Trainer class](https://huggingface.co/docs/transformers/v4.37.2/en/main_classes/trainer#transformers.Trainer).\n",
    "\n",
    "- Setup: <b>conda_python3 kernel</b> and <b>ml.g4dn.12xlarge</b> SageMaker Classic Notebook Instances"
   ]
  },
  {
   "cell_type": "markdown",
   "id": "8364dbdc-09a4-4869-b1e8-2eee33f5ef56",
   "metadata": {},
   "source": [
    "## Setup"
   ]
  },
  {
   "cell_type": "code",
   "execution_count": 5,
   "id": "d4b727f4-f6d9-470f-98cb-036fc5a496c5",
   "metadata": {
    "tags": []
   },
   "outputs": [],
   "source": [
    "import datasets\n",
    "import evaluate\n",
    "import transformers\n",
    "from datasets import load_dataset"
   ]
  },
  {
   "cell_type": "code",
   "execution_count": 6,
   "id": "c7177854-04e9-4098-85ec-dd2bb389f2ca",
   "metadata": {
    "tags": []
   },
   "outputs": [],
   "source": [
    "train_dataset = load_dataset(\"imdb\", split=\"train\")\n",
    "test_dataset = load_dataset(\"imdb\", split=\"test\")\n",
    "test_subset = test_dataset.select(range(100)) # we will take a subset of the data for evaluation"
   ]
  },
  {
   "cell_type": "code",
   "execution_count": 7,
   "id": "08eee140-3159-4fac-9bdc-a8cf4bc00f6e",
   "metadata": {
    "tags": []
   },
   "outputs": [
    {
     "data": {
      "application/vnd.jupyter.widget-view+json": {
       "model_id": "c5ee5b2aa85a4499ab299c130d80daf7",
       "version_major": 2,
       "version_minor": 0
      },
      "text/plain": [
       "Map:   0%|          | 0/100 [00:00<?, ? examples/s]"
      ]
     },
     "metadata": {},
     "output_type": "display_data"
    }
   ],
   "source": [
    "from transformers import AutoTokenizer\n",
    "tokenizer = AutoTokenizer.from_pretrained(\"bert-base-cased\")\n",
    "\n",
    "# tokenize text data\n",
    "def tokenize_function(examples):\n",
    "    return tokenizer(examples[\"text\"], padding=\"max_length\", truncation=True)\n",
    "\n",
    "tokenized_train = train_dataset.map(tokenize_function, batched=True)\n",
    "tokenized_test = test_subset.map(tokenize_function, batched=True)"
   ]
  },
  {
   "cell_type": "markdown",
   "id": "22299c1d-86d4-4c04-aca6-bde3e1b5024a",
   "metadata": {},
   "source": [
    "## Fine-Tuning"
   ]
  },
  {
   "cell_type": "code",
   "execution_count": 8,
   "id": "90b4484e-66ae-4d48-9828-e1694f8a3a02",
   "metadata": {
    "tags": []
   },
   "outputs": [
    {
     "name": "stderr",
     "output_type": "stream",
     "text": [
      "Some weights of the model checkpoint at bert-base-cased were not used when initializing BertForSequenceClassification: ['cls.predictions.transform.LayerNorm.bias', 'cls.predictions.transform.LayerNorm.weight', 'cls.predictions.decoder.weight', 'cls.seq_relationship.bias', 'cls.seq_relationship.weight', 'cls.predictions.transform.dense.weight', 'cls.predictions.bias', 'cls.predictions.transform.dense.bias']\n",
      "- This IS expected if you are initializing BertForSequenceClassification from the checkpoint of a model trained on another task or with another architecture (e.g. initializing a BertForSequenceClassification model from a BertForPreTraining model).\n",
      "- This IS NOT expected if you are initializing BertForSequenceClassification from the checkpoint of a model that you expect to be exactly identical (initializing a BertForSequenceClassification model from a BertForSequenceClassification model).\n",
      "Some weights of BertForSequenceClassification were not initialized from the model checkpoint at bert-base-cased and are newly initialized: ['classifier.weight', 'classifier.bias']\n",
      "You should probably TRAIN this model on a down-stream task to be able to use it for predictions and inference.\n"
     ]
    }
   ],
   "source": [
    "from transformers import AutoModelForSequenceClassification\n",
    "model = AutoModelForSequenceClassification.from_pretrained(\"bert-base-cased\", num_labels=2)"
   ]
  },
  {
   "cell_type": "code",
   "execution_count": 9,
   "id": "d1df4de4-5b00-44dc-a255-f8ecd2933f03",
   "metadata": {
    "tags": []
   },
   "outputs": [],
   "source": [
    "from transformers import TrainingArguments, Trainer\n",
    "training_args = TrainingArguments(output_dir=\"test_trainer\", evaluation_strategy=\"epoch\", num_train_epochs=1)"
   ]
  },
  {
   "cell_type": "code",
   "execution_count": 10,
   "id": "4a0d2dcd-fc0f-4a4b-8ab8-7d4ba3214ccf",
   "metadata": {
    "tags": []
   },
   "outputs": [],
   "source": [
    "import numpy as np\n",
    "import evaluate\n",
    "metric = evaluate.load(\"accuracy\")\n",
    "\n",
    "# eval function\n",
    "def compute_metrics(eval_pred):\n",
    "    logits, labels = eval_pred\n",
    "    predictions = np.argmax(logits, axis=-1)\n",
    "    return metric.compute(predictions=predictions, references=labels)"
   ]
  },
  {
   "cell_type": "code",
   "execution_count": 11,
   "id": "25f4fb4f-3925-4ca3-bd52-8dc67b8d3a9d",
   "metadata": {
    "tags": []
   },
   "outputs": [],
   "source": [
    "trainer = Trainer(\n",
    "    model=model,\n",
    "    args=training_args,\n",
    "    train_dataset=tokenized_train,\n",
    "    eval_dataset=tokenized_test, #using test as eval\n",
    "    compute_metrics=compute_metrics,\n",
    "    tokenizer=tokenizer\n",
    ")"
   ]
  },
  {
   "cell_type": "code",
   "execution_count": 12,
   "id": "831c1e0d-be2e-4691-9909-b56a895a91a6",
   "metadata": {
    "tags": []
   },
   "outputs": [
    {
     "name": "stderr",
     "output_type": "stream",
     "text": [
      "The following columns in the training set don't have a corresponding argument in `BertForSequenceClassification.forward` and have been ignored: text. If text are not expected by `BertForSequenceClassification.forward`,  you can safely ignore this message.\n",
      "/home/ec2-user/anaconda3/envs/python3/lib/python3.10/site-packages/transformers/optimization.py:306: FutureWarning: This implementation of AdamW is deprecated and will be removed in a future version. Use the PyTorch implementation torch.optim.AdamW instead, or set `no_deprecation_warning=True` to disable this warning\n",
      "  warnings.warn(\n",
      "***** Running training *****\n",
      "  Num examples = 25000\n",
      "  Num Epochs = 1\n",
      "  Instantaneous batch size per device = 8\n",
      "  Total train batch size (w. parallel, distributed & accumulation) = 32\n",
      "  Gradient Accumulation steps = 1\n",
      "  Total optimization steps = 782\n",
      "You're using a BertTokenizerFast tokenizer. Please note that with a fast tokenizer, using the `__call__` method is faster than using a method to encode the text followed by a call to the `pad` method to get a padded encoding.\n",
      "/home/ec2-user/anaconda3/envs/python3/lib/python3.10/site-packages/torch/nn/parallel/_functions.py:68: UserWarning: Was asked to gather along dimension 0, but all input tensors were scalars; will instead unsqueeze and return a vector.\n",
      "  warnings.warn('Was asked to gather along dimension 0, but all '\n"
     ]
    },
    {
     "data": {
      "text/html": [
       "\n",
       "    <div>\n",
       "      \n",
       "      <progress value='782' max='782' style='width:300px; height:20px; vertical-align: middle;'></progress>\n",
       "      [782/782 11:20, Epoch 1/1]\n",
       "    </div>\n",
       "    <table border=\"1\" class=\"dataframe\">\n",
       "  <thead>\n",
       " <tr style=\"text-align: left;\">\n",
       "      <th>Epoch</th>\n",
       "      <th>Training Loss</th>\n",
       "      <th>Validation Loss</th>\n",
       "      <th>Accuracy</th>\n",
       "    </tr>\n",
       "  </thead>\n",
       "  <tbody>\n",
       "    <tr>\n",
       "      <td>1</td>\n",
       "      <td>0.276400</td>\n",
       "      <td>0.290520</td>\n",
       "      <td>0.900000</td>\n",
       "    </tr>\n",
       "  </tbody>\n",
       "</table><p>"
      ],
      "text/plain": [
       "<IPython.core.display.HTML object>"
      ]
     },
     "metadata": {},
     "output_type": "display_data"
    },
    {
     "name": "stderr",
     "output_type": "stream",
     "text": [
      "Saving model checkpoint to test_trainer/checkpoint-500\n",
      "Configuration saved in test_trainer/checkpoint-500/config.json\n",
      "Model weights saved in test_trainer/checkpoint-500/pytorch_model.bin\n",
      "tokenizer config file saved in test_trainer/checkpoint-500/tokenizer_config.json\n",
      "Special tokens file saved in test_trainer/checkpoint-500/special_tokens_map.json\n",
      "/home/ec2-user/anaconda3/envs/python3/lib/python3.10/site-packages/torch/nn/parallel/_functions.py:68: UserWarning: Was asked to gather along dimension 0, but all input tensors were scalars; will instead unsqueeze and return a vector.\n",
      "  warnings.warn('Was asked to gather along dimension 0, but all '\n",
      "The following columns in the evaluation set don't have a corresponding argument in `BertForSequenceClassification.forward` and have been ignored: text. If text are not expected by `BertForSequenceClassification.forward`,  you can safely ignore this message.\n",
      "***** Running Evaluation *****\n",
      "  Num examples = 100\n",
      "  Batch size = 32\n",
      "\n",
      "\n",
      "Training completed. Do not forget to share your model on huggingface.co/models =)\n",
      "\n",
      "\n"
     ]
    },
    {
     "data": {
      "text/plain": [
       "TrainOutput(global_step=782, training_loss=0.25128233829117796, metrics={'train_runtime': 683.6955, 'train_samples_per_second': 36.566, 'train_steps_per_second': 1.144, 'total_flos': 6577776384000000.0, 'train_loss': 0.25128233829117796, 'epoch': 1.0})"
      ]
     },
     "execution_count": 12,
     "metadata": {},
     "output_type": "execute_result"
    }
   ],
   "source": [
    "trainer.train()"
   ]
  },
  {
   "cell_type": "code",
   "execution_count": 13,
   "id": "62e16e34-29ff-4948-9949-720ed19645e7",
   "metadata": {
    "tags": []
   },
   "outputs": [
    {
     "name": "stderr",
     "output_type": "stream",
     "text": [
      "The following columns in the evaluation set don't have a corresponding argument in `BertForSequenceClassification.forward` and have been ignored: text. If text are not expected by `BertForSequenceClassification.forward`,  you can safely ignore this message.\n",
      "***** Running Evaluation *****\n",
      "  Num examples = 100\n",
      "  Batch size = 32\n",
      "/home/ec2-user/anaconda3/envs/python3/lib/python3.10/site-packages/torch/nn/parallel/_functions.py:68: UserWarning: Was asked to gather along dimension 0, but all input tensors were scalars; will instead unsqueeze and return a vector.\n",
      "  warnings.warn('Was asked to gather along dimension 0, but all '\n"
     ]
    },
    {
     "data": {
      "text/html": [],
      "text/plain": [
       "<IPython.core.display.HTML object>"
      ]
     },
     "metadata": {},
     "output_type": "display_data"
    },
    {
     "data": {
      "text/plain": [
       "{'eval_loss': 0.2905201315879822,\n",
       " 'eval_accuracy': 0.9,\n",
       " 'eval_runtime': 1.0816,\n",
       " 'eval_samples_per_second': 92.453,\n",
       " 'eval_steps_per_second': 3.698,\n",
       " 'epoch': 1.0}"
      ]
     },
     "execution_count": 13,
     "metadata": {},
     "output_type": "execute_result"
    }
   ],
   "source": [
    "trainer.evaluate()"
   ]
  },
  {
   "cell_type": "code",
   "execution_count": 14,
   "id": "cf4e3c9d-dcb3-4de4-8cb9-1c1f2e112182",
   "metadata": {
    "tags": []
   },
   "outputs": [
    {
     "name": "stderr",
     "output_type": "stream",
     "text": [
      "The following columns in the test set don't have a corresponding argument in `BertForSequenceClassification.forward` and have been ignored: text. If text are not expected by `BertForSequenceClassification.forward`,  you can safely ignore this message.\n",
      "***** Running Prediction *****\n",
      "  Num examples = 100\n",
      "  Batch size = 32\n",
      "/home/ec2-user/anaconda3/envs/python3/lib/python3.10/site-packages/torch/nn/parallel/_functions.py:68: UserWarning: Was asked to gather along dimension 0, but all input tensors were scalars; will instead unsqueeze and return a vector.\n",
      "  warnings.warn('Was asked to gather along dimension 0, but all '\n"
     ]
    },
    {
     "data": {
      "text/plain": [
       "PredictionOutput(predictions=array([[ 2.233611  , -2.838757  ],\n",
       "       [ 1.3145416 , -1.3600825 ],\n",
       "       [ 2.0577595 , -2.4862347 ],\n",
       "       [ 2.1538134 , -2.6712563 ],\n",
       "       [-1.8632524 ,  3.0206013 ],\n",
       "       [ 1.8456823 , -2.0057776 ],\n",
       "       [ 1.4395349 , -1.5435355 ],\n",
       "       [ 2.3080866 , -3.0660431 ],\n",
       "       [ 2.2837262 , -2.9438133 ],\n",
       "       [ 2.412186  , -3.2898452 ],\n",
       "       [ 2.4439065 , -3.2905052 ],\n",
       "       [ 1.1079466 , -0.9139905 ],\n",
       "       [ 2.3250206 , -2.900616  ],\n",
       "       [ 1.8195829 , -2.035905  ],\n",
       "       [ 1.7146747 , -1.9527353 ],\n",
       "       [ 1.2669995 , -1.2126276 ],\n",
       "       [ 1.7040373 , -1.9370786 ],\n",
       "       [ 2.0469959 , -2.266483  ],\n",
       "       [-0.40541586,  1.1330844 ],\n",
       "       [ 0.9924181 , -0.885446  ],\n",
       "       [-0.864274  ,  1.7464645 ],\n",
       "       [ 1.578781  , -1.5840921 ],\n",
       "       [ 1.9062662 , -2.0838084 ],\n",
       "       [ 2.270737  , -2.8005166 ],\n",
       "       [ 1.518781  , -1.5225335 ],\n",
       "       [ 1.7050827 , -1.8103762 ],\n",
       "       [ 1.5410125 , -1.675297  ],\n",
       "       [ 0.55967784, -0.17644013],\n",
       "       [ 2.064211  , -2.571206  ],\n",
       "       [ 1.3372227 , -1.2110474 ],\n",
       "       [ 2.2334402 , -2.968834  ],\n",
       "       [ 2.4179125 , -3.256135  ],\n",
       "       [-0.3626996 ,  1.0794035 ],\n",
       "       [ 1.667721  , -2.062916  ],\n",
       "       [ 1.8485663 , -2.3422408 ],\n",
       "       [ 2.1714437 , -2.6444933 ],\n",
       "       [ 0.6815555 , -0.6480162 ],\n",
       "       [ 0.21915714,  0.23970863],\n",
       "       [ 2.169232  , -2.692388  ],\n",
       "       [ 1.9149648 , -2.1005216 ],\n",
       "       [ 2.220747  , -2.7442093 ],\n",
       "       [ 1.3965777 , -1.3486605 ],\n",
       "       [ 1.8858175 , -2.2030942 ],\n",
       "       [ 2.1636484 , -2.7058246 ],\n",
       "       [ 2.1235712 , -2.69168   ],\n",
       "       [ 2.220689  , -2.7418096 ],\n",
       "       [-1.6372256 ,  2.6926546 ],\n",
       "       [ 1.7492707 , -1.8361723 ],\n",
       "       [ 2.386714  , -3.1711276 ],\n",
       "       [ 2.089808  , -2.6980655 ],\n",
       "       [ 1.6316421 , -1.7328919 ],\n",
       "       [ 0.716915  , -0.38041258],\n",
       "       [ 1.8764057 , -2.2118723 ],\n",
       "       [ 1.9089683 , -2.214555  ],\n",
       "       [ 1.4376138 , -1.8851883 ],\n",
       "       [ 0.64973223, -0.48645496],\n",
       "       [ 1.7138157 , -1.9613829 ],\n",
       "       [ 1.1039815 , -1.2257166 ],\n",
       "       [ 0.35641006,  0.11031598],\n",
       "       [ 1.832874  , -2.0841188 ],\n",
       "       [ 2.096146  , -2.6207151 ],\n",
       "       [-1.384527  ,  2.4745805 ],\n",
       "       [ 1.7530646 , -1.8648607 ],\n",
       "       [ 1.0813842 , -0.91216815],\n",
       "       [ 2.4168193 , -3.2243967 ],\n",
       "       [ 2.065226  , -2.786411  ],\n",
       "       [ 1.3766252 , -1.3124678 ],\n",
       "       [ 2.11268   , -2.6184413 ],\n",
       "       [ 1.6223054 , -1.7344353 ],\n",
       "       [ 2.1642613 , -2.66546   ],\n",
       "       [ 1.7231591 , -1.9109511 ],\n",
       "       [ 1.6897681 , -1.7526251 ],\n",
       "       [ 2.0722172 , -2.5620232 ],\n",
       "       [-0.39126506,  0.9808232 ],\n",
       "       [ 1.191734  , -1.1652646 ],\n",
       "       [ 1.6552616 , -1.6587163 ],\n",
       "       [ 1.7207884 , -2.0909436 ],\n",
       "       [ 1.6041384 , -1.7177773 ],\n",
       "       [ 0.7863255 , -0.52034605],\n",
       "       [ 0.15114246,  0.35687754],\n",
       "       [ 1.8256787 , -2.030546  ],\n",
       "       [ 1.1071818 , -1.035678  ],\n",
       "       [ 1.7576267 , -1.7515279 ],\n",
       "       [ 2.2091134 , -2.808838  ],\n",
       "       [ 2.248513  , -2.725737  ],\n",
       "       [ 1.3199465 , -1.4072614 ],\n",
       "       [ 2.2405958 , -2.837153  ],\n",
       "       [ 0.57929474, -0.20298779],\n",
       "       [-0.23222741,  0.8582937 ],\n",
       "       [ 2.246458  , -2.766784  ],\n",
       "       [ 2.167709  , -2.8634436 ],\n",
       "       [ 2.3741837 , -3.1429389 ],\n",
       "       [ 1.4640789 , -1.4304001 ],\n",
       "       [ 2.051004  , -2.3945405 ],\n",
       "       [ 2.3663712 , -3.0006356 ],\n",
       "       [ 0.7386665 , -0.57371646],\n",
       "       [ 1.4447314 , -1.3804599 ],\n",
       "       [ 1.9603001 , -2.3702462 ],\n",
       "       [ 0.37875384, -0.15971571],\n",
       "       [ 2.2489693 , -2.9762056 ]], dtype=float32), label_ids=array([0, 0, 0, 0, 0, 0, 0, 0, 0, 0, 0, 0, 0, 0, 0, 0, 0, 0, 0, 0, 0, 0,\n",
       "       0, 0, 0, 0, 0, 0, 0, 0, 0, 0, 0, 0, 0, 0, 0, 0, 0, 0, 0, 0, 0, 0,\n",
       "       0, 0, 0, 0, 0, 0, 0, 0, 0, 0, 0, 0, 0, 0, 0, 0, 0, 0, 0, 0, 0, 0,\n",
       "       0, 0, 0, 0, 0, 0, 0, 0, 0, 0, 0, 0, 0, 0, 0, 0, 0, 0, 0, 0, 0, 0,\n",
       "       0, 0, 0, 0, 0, 0, 0, 0, 0, 0, 0, 0]), metrics={'test_loss': 0.2905201315879822, 'test_accuracy': 0.9, 'test_runtime': 1.0819, 'test_samples_per_second': 92.428, 'test_steps_per_second': 3.697})"
      ]
     },
     "execution_count": 14,
     "metadata": {},
     "output_type": "execute_result"
    }
   ],
   "source": [
    "trainer.predict(tokenized_test)"
   ]
  },
  {
   "cell_type": "code",
   "execution_count": 15,
   "id": "8e047029-0fc5-47f3-bc57-f054dbb2fa15",
   "metadata": {
    "tags": []
   },
   "outputs": [
    {
     "name": "stderr",
     "output_type": "stream",
     "text": [
      "Saving model checkpoint to ./custom_model\n",
      "Configuration saved in ./custom_model/config.json\n",
      "Model weights saved in ./custom_model/pytorch_model.bin\n",
      "tokenizer config file saved in ./custom_model/tokenizer_config.json\n",
      "Special tokens file saved in ./custom_model/special_tokens_map.json\n"
     ]
    }
   ],
   "source": [
    "trainer.save_model(\"./custom_model\")"
   ]
  },
  {
   "cell_type": "code",
   "execution_count": 16,
   "id": "7454642c-f132-4ab0-8905-a6dddff74a36",
   "metadata": {
    "tags": []
   },
   "outputs": [
    {
     "name": "stderr",
     "output_type": "stream",
     "text": [
      "loading configuration file custom_model/config.json\n",
      "Model config BertConfig {\n",
      "  \"_name_or_path\": \"custom_model/\",\n",
      "  \"architectures\": [\n",
      "    \"BertForSequenceClassification\"\n",
      "  ],\n",
      "  \"attention_probs_dropout_prob\": 0.1,\n",
      "  \"classifier_dropout\": null,\n",
      "  \"gradient_checkpointing\": false,\n",
      "  \"hidden_act\": \"gelu\",\n",
      "  \"hidden_dropout_prob\": 0.1,\n",
      "  \"hidden_size\": 768,\n",
      "  \"initializer_range\": 0.02,\n",
      "  \"intermediate_size\": 3072,\n",
      "  \"layer_norm_eps\": 1e-12,\n",
      "  \"max_position_embeddings\": 512,\n",
      "  \"model_type\": \"bert\",\n",
      "  \"num_attention_heads\": 12,\n",
      "  \"num_hidden_layers\": 12,\n",
      "  \"pad_token_id\": 0,\n",
      "  \"position_embedding_type\": \"absolute\",\n",
      "  \"problem_type\": \"single_label_classification\",\n",
      "  \"torch_dtype\": \"float32\",\n",
      "  \"transformers_version\": \"4.22.1\",\n",
      "  \"type_vocab_size\": 2,\n",
      "  \"use_cache\": true,\n",
      "  \"vocab_size\": 28996\n",
      "}\n",
      "\n",
      "loading weights file custom_model/pytorch_model.bin\n",
      "All model checkpoint weights were used when initializing BertForSequenceClassification.\n",
      "\n",
      "All the weights of BertForSequenceClassification were initialized from the model checkpoint at custom_model/.\n",
      "If your task is similar to the task the model of the checkpoint was trained on, you can already use BertForSequenceClassification for predictions without further training.\n"
     ]
    }
   ],
   "source": [
    "loaded_model = AutoModelForSequenceClassification.from_pretrained(pretrained_model_name_or_path=\"custom_model/\")"
   ]
  },
  {
   "cell_type": "code",
   "execution_count": 21,
   "id": "072bf66c-c8e6-477f-ba8a-a892434a7a15",
   "metadata": {
    "tags": []
   },
   "outputs": [
    {
     "data": {
      "text/plain": [
       "tensor([1])"
      ]
     },
     "execution_count": 21,
     "metadata": {},
     "output_type": "execute_result"
    }
   ],
   "source": [
    "encoding = tokenizer(\"I am super delighted\", return_tensors=\"pt\")\n",
    "res = loaded_model(**encoding)\n",
    "predicted_label_classes = res.logits.argmax(-1)\n",
    "predicted_label_classes"
   ]
  }
 ],
 "metadata": {
  "kernelspec": {
   "display_name": "conda_python3",
   "language": "python",
   "name": "conda_python3"
  },
  "language_info": {
   "codemirror_mode": {
    "name": "ipython",
    "version": 3
   },
   "file_extension": ".py",
   "mimetype": "text/x-python",
   "name": "python",
   "nbconvert_exporter": "python",
   "pygments_lexer": "ipython3",
   "version": "3.10.13"
  }
 },
 "nbformat": 4,
 "nbformat_minor": 5
}
